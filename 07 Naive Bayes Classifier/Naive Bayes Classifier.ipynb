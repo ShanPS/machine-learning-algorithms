{
 "cells": [
  {
   "cell_type": "markdown",
   "metadata": {},
   "source": [
    "## Naive Bayes Classifier\n",
    "\n",
    "**Naive Bayes classifier** is a simple probabilistic classifier based on applying **Bayes theorem** with independence assumptions between the features. This classifier **assumes the features are equally important and mutually independent (hence the name \"Naive\" Bayes).** A Naive Bayes model is easy to build, with no complicated iterative parameter estimation which makes it particularly useful for very large datasets. Despite its simplicity, the Naive Bayesian classifier often does surprisingly well and is widely used because it often outperforms more sophisticated classification methods.  \t\n",
    "\n",
    "<br>\n",
    "**Bayes Theorem**\n",
    "\n",
    "> Bayes theorem provides a way of calculating the posterior probability, $P(A \\mid B)$, from $P(A)$, $P(B)$, and $P(B \\mid A)$.\n",
    "\n",
    "> $$P(A \\mid B) = \\frac {P(B \\mid A) \\cdot P(A)} {P(B)}$$\n",
    "where,  \n",
    "* $P(A|B)$ is the posterior probability of class (target) given predictors (features). \n",
    "* $P(B|A)$ is the likelihood which is the probability of predictor given class.\n",
    "* $P(A)$ is the prior probability of class.\n",
    "* $P(B)$ is the prior probability of predictor.\n",
    "\n",
    "> In other words:\n",
    "$$posterior = \\frac {likelihood * prior} {evidence}$$\n",
    "\n",
    "<br>\n",
    "**How classification is done?**\n",
    "\n",
    "> Naive Bayes classifier assume that the effect of the value of predictor (x) on a given class (y) is independent of the values of other predictors. This assumption is called class conditional independence.\n",
    "\n",
    "> If predictor (feature) values $x_1, x_2, ..., x_n$ are given we can predict the class y which it belongs to by calculating $P(y_i \\mid x_1, x_2, ..., x_n)$ for all $y_i \\in Y$ (ie, for all classes) and selecting the maximum valued among them as it's class.\n",
    "\n",
    "\n",
    "> $$P(y_i \\mid x_1, x_2, ..., x_n) = \\frac {P(x_1 \\mid y_i) \\cdot P(x_2 \\mid y_i) ... P(x_n \\mid y_i) \\cdot P(y_i)} {P(x_1) \\cdot P(x_2) ... P(x_n)}$$\n",
    "\n",
    "> Note: If any predictor is numerical variable then it should be transformed to categorical counterparts (binning) before constructing their frequency tables. The other option we have is using the distribution of the numerical variable to have a good guess of the frequency. For example, one common practice is to assume normal distributions for numerical variables.\n",
    "\n",
    "<br>\n",
    "**Types of Naive Bayes classifier**\n",
    "\n",
    ">1. Multinomial Naive Bayes:  \n",
    "This is mostly used for document classification problem. The features/predictors used by the classifier are the frequency of the words present in the document.\n",
    "\n",
    ">2. Bernoulli Naive Bayes:  \n",
    "This is similar to the multinomial naive bayes but the predictors are boolean variables. The parameters that we use to predict the class variable take up only values yes or no, for example if a word occurs in the text or not.\n",
    "\n",
    ">3. Gaussian Naive Bayes:  \n",
    "When the predictors take up a continuous value and are not discrete, we assume that these values are sampled from a gaussian distribution (Normal Distribution). Here the conditional probability on predictors are given by:\n",
    "$$P(x_i \\mid y) = \\frac {1} {\\sqrt{2 \\pi \\sigma_y^2}} \\exp (- \\frac {(x_i - \\mu_y)^2}{2 \\sigma_y^2})$$\n",
    "\n",
    "<br>\n",
    "**Applications**\n",
    "\n",
    "> * Text classification/ Spam Filtering/ Sentiment Analysis.\n",
    "* Real time predictions.\n",
    "* Facial recognition.\n",
    "* Recommendation system.\n",
    "\n",
    "<br>\n",
    "**Advantages**\n",
    "\n",
    "> * It is easy and fast to predict the class. It also performs well in multi-class prediction.\n",
    "* It works well even with less training data.\n",
    "* When assumption of independence holds, a Naive Bayes classifier performs better compare to other models.\n",
    "* It perform well in case of categorical input variables compared to numerical variables. For numerical variable, normal distribution is assumed (which is a strong assumption).\n",
    "\n",
    "\n",
    "<br>\n",
    "**Disadvantages**\n",
    "\n",
    "> * If categorical variable has a category (in test data set), which was not observed in training data set, then model will assign a 0 (zero) probability and will be unable to make a prediction. This is often known as Zero Frequency. To solve this, we can use the smoothing technique. One of the simplest smoothing techniques is called Laplace estimation.\n",
    "* Another limitation of Naive Bayes is the assumption of independent predictors. In real life, it is almost impossible that we get a set of predictors which are completely independent."
   ]
  },
  {
   "cell_type": "markdown",
   "metadata": {},
   "source": [
    "## Use case implementation of Naive Bayes Classifier:¶\n",
    "\n",
    "We will build a model to implement text classification of news headlines and classify it into different topics.\n",
    "\n",
    "Let's get started..."
   ]
  },
  {
   "cell_type": "code",
   "execution_count": 1,
   "metadata": {},
   "outputs": [],
   "source": [
    "# imports\n",
    "import numpy as np\n",
    "import pandas as pd\n",
    "import matplotlib.pyplot as plt\n",
    "import seaborn as sns\n",
    "\n",
    "%matplotlib inline"
   ]
  },
  {
   "cell_type": "code",
   "execution_count": 2,
   "metadata": {},
   "outputs": [
    {
     "name": "stdout",
     "output_type": "stream",
     "text": [
      "(11314, 2)\n"
     ]
    }
   ],
   "source": [
    "# load the data\n",
    "data = pd.read_csv('20newsgroups.csv')\n",
    "\n",
    "print(data.shape)"
   ]
  },
  {
   "cell_type": "code",
   "execution_count": 3,
   "metadata": {},
   "outputs": [
    {
     "data": {
      "text/html": [
       "<div>\n",
       "<style scoped>\n",
       "    .dataframe tbody tr th:only-of-type {\n",
       "        vertical-align: middle;\n",
       "    }\n",
       "\n",
       "    .dataframe tbody tr th {\n",
       "        vertical-align: top;\n",
       "    }\n",
       "\n",
       "    .dataframe thead th {\n",
       "        text-align: right;\n",
       "    }\n",
       "</style>\n",
       "<table border=\"1\" class=\"dataframe\">\n",
       "  <thead>\n",
       "    <tr style=\"text-align: right;\">\n",
       "      <th></th>\n",
       "      <th>text</th>\n",
       "      <th>class</th>\n",
       "    </tr>\n",
       "  </thead>\n",
       "  <tbody>\n",
       "    <tr>\n",
       "      <th>0</th>\n",
       "      <td>From: lerxst@wam.umd.edu (where's my thing)\\r\\...</td>\n",
       "      <td>rec.autos</td>\n",
       "    </tr>\n",
       "    <tr>\n",
       "      <th>1</th>\n",
       "      <td>From: guykuo@carson.u.washington.edu (Guy Kuo)...</td>\n",
       "      <td>comp.sys.mac.hardware</td>\n",
       "    </tr>\n",
       "    <tr>\n",
       "      <th>2</th>\n",
       "      <td>From: twillis@ec.ecn.purdue.edu (Thomas E Will...</td>\n",
       "      <td>comp.sys.mac.hardware</td>\n",
       "    </tr>\n",
       "    <tr>\n",
       "      <th>3</th>\n",
       "      <td>From: jgreen@amber (Joe Green)\\r\\nSubject: Re:...</td>\n",
       "      <td>comp.graphics</td>\n",
       "    </tr>\n",
       "    <tr>\n",
       "      <th>4</th>\n",
       "      <td>From: jcm@head-cfa.harvard.edu (Jonathan McDow...</td>\n",
       "      <td>sci.space</td>\n",
       "    </tr>\n",
       "  </tbody>\n",
       "</table>\n",
       "</div>"
      ],
      "text/plain": [
       "                                                text                  class\n",
       "0  From: lerxst@wam.umd.edu (where's my thing)\\r\\...              rec.autos\n",
       "1  From: guykuo@carson.u.washington.edu (Guy Kuo)...  comp.sys.mac.hardware\n",
       "2  From: twillis@ec.ecn.purdue.edu (Thomas E Will...  comp.sys.mac.hardware\n",
       "3  From: jgreen@amber (Joe Green)\\r\\nSubject: Re:...          comp.graphics\n",
       "4  From: jcm@head-cfa.harvard.edu (Jonathan McDow...              sci.space"
      ]
     },
     "execution_count": 3,
     "metadata": {},
     "output_type": "execute_result"
    }
   ],
   "source": [
    "data.head()"
   ]
  },
  {
   "cell_type": "code",
   "execution_count": 4,
   "metadata": {},
   "outputs": [],
   "source": [
    "# encode the class to integer values\n",
    "from sklearn.preprocessing import LabelEncoder\n",
    "\n",
    "data = pd.read_csv('20newsgroups.csv')\n",
    "\n",
    "encoder = LabelEncoder()\n",
    "data['class'] = encoder.fit_transform(data['class'])\n",
    "\n",
    "# form a dictionary for index to class mapping\n",
    "encoded_mapping = dict(zip(list(range(20)), encoder.classes_))"
   ]
  },
  {
   "cell_type": "code",
   "execution_count": 5,
   "metadata": {},
   "outputs": [
    {
     "data": {
      "text/html": [
       "<div>\n",
       "<style scoped>\n",
       "    .dataframe tbody tr th:only-of-type {\n",
       "        vertical-align: middle;\n",
       "    }\n",
       "\n",
       "    .dataframe tbody tr th {\n",
       "        vertical-align: top;\n",
       "    }\n",
       "\n",
       "    .dataframe thead th {\n",
       "        text-align: right;\n",
       "    }\n",
       "</style>\n",
       "<table border=\"1\" class=\"dataframe\">\n",
       "  <thead>\n",
       "    <tr style=\"text-align: right;\">\n",
       "      <th></th>\n",
       "      <th>text</th>\n",
       "      <th>class</th>\n",
       "    </tr>\n",
       "  </thead>\n",
       "  <tbody>\n",
       "    <tr>\n",
       "      <th>0</th>\n",
       "      <td>From: lerxst@wam.umd.edu (where's my thing)\\r\\...</td>\n",
       "      <td>7</td>\n",
       "    </tr>\n",
       "    <tr>\n",
       "      <th>1</th>\n",
       "      <td>From: guykuo@carson.u.washington.edu (Guy Kuo)...</td>\n",
       "      <td>4</td>\n",
       "    </tr>\n",
       "    <tr>\n",
       "      <th>2</th>\n",
       "      <td>From: twillis@ec.ecn.purdue.edu (Thomas E Will...</td>\n",
       "      <td>4</td>\n",
       "    </tr>\n",
       "    <tr>\n",
       "      <th>3</th>\n",
       "      <td>From: jgreen@amber (Joe Green)\\r\\nSubject: Re:...</td>\n",
       "      <td>1</td>\n",
       "    </tr>\n",
       "    <tr>\n",
       "      <th>4</th>\n",
       "      <td>From: jcm@head-cfa.harvard.edu (Jonathan McDow...</td>\n",
       "      <td>14</td>\n",
       "    </tr>\n",
       "  </tbody>\n",
       "</table>\n",
       "</div>"
      ],
      "text/plain": [
       "                                                text  class\n",
       "0  From: lerxst@wam.umd.edu (where's my thing)\\r\\...      7\n",
       "1  From: guykuo@carson.u.washington.edu (Guy Kuo)...      4\n",
       "2  From: twillis@ec.ecn.purdue.edu (Thomas E Will...      4\n",
       "3  From: jgreen@amber (Joe Green)\\r\\nSubject: Re:...      1\n",
       "4  From: jcm@head-cfa.harvard.edu (Jonathan McDow...     14"
      ]
     },
     "execution_count": 5,
     "metadata": {},
     "output_type": "execute_result"
    }
   ],
   "source": [
    "data.head()"
   ]
  },
  {
   "cell_type": "code",
   "execution_count": 6,
   "metadata": {},
   "outputs": [
    {
     "data": {
      "text/plain": [
       "{0: 'alt.atheism',\n",
       " 1: 'comp.graphics',\n",
       " 2: 'comp.os.ms-windows.misc',\n",
       " 3: 'comp.sys.ibm.pc.hardware',\n",
       " 4: 'comp.sys.mac.hardware',\n",
       " 5: 'comp.windows.x',\n",
       " 6: 'misc.forsale',\n",
       " 7: 'rec.autos',\n",
       " 8: 'rec.motorcycles',\n",
       " 9: 'rec.sport.baseball',\n",
       " 10: 'rec.sport.hockey',\n",
       " 11: 'sci.crypt',\n",
       " 12: 'sci.electronics',\n",
       " 13: 'sci.med',\n",
       " 14: 'sci.space',\n",
       " 15: 'soc.religion.christian',\n",
       " 16: 'talk.politics.guns',\n",
       " 17: 'talk.politics.mideast',\n",
       " 18: 'talk.politics.misc',\n",
       " 19: 'talk.religion.misc'}"
      ]
     },
     "execution_count": 6,
     "metadata": {},
     "output_type": "execute_result"
    }
   ],
   "source": [
    "# dictionary for index to class mapping\n",
    "encoded_mapping"
   ]
  },
  {
   "cell_type": "code",
   "execution_count": 7,
   "metadata": {},
   "outputs": [
    {
     "name": "stdout",
     "output_type": "stream",
     "text": [
      "x_train shape:(9051,)\n",
      "y_train shape:(9051,)\n",
      "x_test shape:(2263,)\n",
      "y_test shape:(2263,)\n"
     ]
    }
   ],
   "source": [
    "# split train and test data\n",
    "from sklearn.model_selection import train_test_split\n",
    "\n",
    "x = data.iloc[:, 0]\n",
    "y = data.iloc[:, 1]\n",
    "\n",
    "x_train, x_test, y_train, y_test = train_test_split(x, y, test_size=0.2, random_state=46)\n",
    "\n",
    "print('x_train shape:{}'.format(x_train.shape))\n",
    "print('y_train shape:{}'.format(y_train.shape))\n",
    "print('x_test shape:{}'.format(x_test.shape))\n",
    "print('y_test shape:{}'.format(y_test.shape))"
   ]
  },
  {
   "cell_type": "code",
   "execution_count": 8,
   "metadata": {},
   "outputs": [
    {
     "data": {
      "text/plain": [
       "Pipeline(memory=None,\n",
       "     steps=[('tfidfvectorizer', TfidfVectorizer(analyzer='word', binary=False, decode_error='strict',\n",
       "        dtype=<class 'numpy.int64'>, encoding='utf-8', input='content',\n",
       "        lowercase=True, max_df=1.0, max_features=None, min_df=1,\n",
       "        ngram_range=(1, 1), norm='l2', preprocessor=None, smooth_i...   vocabulary=None)), ('multinomialnb', MultinomialNB(alpha=1.0, class_prior=None, fit_prior=True))])"
      ]
     },
     "execution_count": 8,
     "metadata": {},
     "output_type": "execute_result"
    }
   ],
   "source": [
    "# create model and fit on training data\n",
    "from sklearn.feature_extraction.text import TfidfVectorizer\n",
    "from sklearn.naive_bayes import MultinomialNB\n",
    "from sklearn.pipeline import make_pipeline\n",
    "\n",
    "model = make_pipeline(TfidfVectorizer(), MultinomialNB())\n",
    "model.fit(x_train, y_train)"
   ]
  },
  {
   "cell_type": "code",
   "execution_count": 9,
   "metadata": {},
   "outputs": [
    {
     "name": "stdout",
     "output_type": "stream",
     "text": [
      "Accuracy: 0.8440123729562528\n",
      "             precision    recall  f1-score   support\n",
      "\n",
      "          0       0.91      0.75      0.83       110\n",
      "          1       0.93      0.73      0.82       118\n",
      "          2       0.91      0.77      0.83       129\n",
      "          3       0.60      0.92      0.73        97\n",
      "          4       0.92      0.75      0.83       105\n",
      "          5       0.95      0.89      0.92       117\n",
      "          6       0.96      0.67      0.79       128\n",
      "          7       0.84      0.93      0.88       110\n",
      "          8       0.98      0.91      0.95       135\n",
      "          9       0.95      0.93      0.94       128\n",
      "         10       0.96      0.99      0.97       133\n",
      "         11       0.73      1.00      0.84       117\n",
      "         12       0.90      0.79      0.84       110\n",
      "         13       0.90      0.92      0.91       102\n",
      "         14       0.92      0.92      0.92       128\n",
      "         15       0.50      0.98      0.66       117\n",
      "         16       0.80      0.95      0.87       101\n",
      "         17       0.96      0.98      0.97       107\n",
      "         18       0.98      0.75      0.85        85\n",
      "         19       1.00      0.14      0.24        86\n",
      "\n",
      "avg / total       0.88      0.84      0.84      2263\n",
      "\n",
      "Confusion Matrix:\n",
      "\n"
     ]
    },
    {
     "data": {
      "image/png": "[encoded data removed]",
      "text/plain": [
       "<matplotlib.figure.Figure at 0x58eaa44518>"
      ]
     },
     "metadata": {},
     "output_type": "display_data"
    }
   ],
   "source": [
    "# evaluate the model\n",
    "from sklearn.metrics import accuracy_score, confusion_matrix, classification_report\n",
    "\n",
    "predictions = model.predict(x_test)\n",
    "\n",
    "print('Accuracy: {}'.format(accuracy_score(y_test, predictions)))\n",
    "print(classification_report(y_test, predictions))\n",
    "\n",
    "plt.figure(figsize=(8, 8))\n",
    "conf_matrix = pd.DataFrame(confusion_matrix(y_test, predictions),\n",
    "                           index=list(encoded_mapping.values()),\n",
    "                           columns=list(encoded_mapping.values()))\n",
    "print('Confusion Matrix:\\n')\n",
    "sns.heatmap(conf_matrix, square=True, annot=True, fmt='d', cbar=False)\n",
    "plt.xlabel('predicted')\n",
    "plt.ylabel('actual')\n",
    "plt.show()"
   ]
  },
  {
   "cell_type": "code",
   "execution_count": 10,
   "metadata": {},
   "outputs": [],
   "source": [
    "# define a function to manually check for some text classification\n",
    "def classify(text):\n",
    "    prediction = model.predict([text])\n",
    "    return encoded_mapping[prediction[0]]"
   ]
  },
  {
   "cell_type": "code",
   "execution_count": 11,
   "metadata": {},
   "outputs": [
    {
     "data": {
      "text/plain": [
       "'rec.autos'"
      ]
     },
     "execution_count": 11,
     "metadata": {},
     "output_type": "execute_result"
    }
   ],
   "source": [
    "classify('I have trouble with names and faces, but I never forget a car.')"
   ]
  },
  {
   "cell_type": "code",
   "execution_count": 12,
   "metadata": {},
   "outputs": [
    {
     "data": {
      "text/plain": [
       "'talk.politics.mideast'"
      ]
     },
     "execution_count": 12,
     "metadata": {},
     "output_type": "execute_result"
    }
   ],
   "source": [
    "classify('The Politics of the Middle East is complicated, multifaceted and different from other regions due to the oil resources in the region')"
   ]
  },
  {
   "cell_type": "code",
   "execution_count": 13,
   "metadata": {},
   "outputs": [
    {
     "data": {
      "text/plain": [
       "'sci.med'"
      ]
     },
     "execution_count": 13,
     "metadata": {},
     "output_type": "execute_result"
    }
   ],
   "source": [
    "classify('Medicine is the science and practice of establishing the diagnosis, prognosis, treatment, and prevention of disease.')"
   ]
  }
 ],
 "metadata": {
  "kernelspec": {
   "display_name": "Python 3",
   "language": "python",
   "name": "python3"
  },
  "language_info": {
   "codemirror_mode": {
    "name": "ipython",
    "version": 3
   },
   "file_extension": ".py",
   "mimetype": "text/x-python",
   "name": "python",
   "nbconvert_exporter": "python",
   "pygments_lexer": "ipython3",
   "version": "3.6.1"
  }
 },
 "nbformat": 4,
 "nbformat_minor": 2
}
