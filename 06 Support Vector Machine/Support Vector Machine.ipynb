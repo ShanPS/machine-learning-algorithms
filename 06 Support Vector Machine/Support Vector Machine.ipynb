{
 "cells": [
  {
   "cell_type": "markdown",
   "metadata": {},
   "source": [
    "## Support Vector Machine\n",
    "\n",
    "**Support Vector Machine (SVM)** is a supervised machine learning algorithm which can be used for both classification and regression. However,  it is mostly used in classification problems. In this algorithm, we plot each data item as a point in n-dimensional space (where n is number of features). Then, we perform classification by finding the hyper-plane that differentiate the classes very well.\n",
    "\n",
    "Support vectors are data points that are closer to the hyperplane and influence the position and orientation of the hyperplane. Support Vector Machine is an algorithm which defines the best hyper-plane to separate the points into different classes. Using these support vectors, we maximize the margin of the classifier.\n",
    "\n",
    "**How to get the best hyper-plane?**  \n",
    "The best hyper-plane is the one which has the largest distance to the nearest training-data point of any class (so-called functional margin), since in general the larger the margin, the lower the generalization error of the classifier.\n",
    "\n",
    "**Can SVM seperate non-linear data?**\n",
    "Yes. The original problem may be stated in a finite-dimensional space, it often happens that the sets to discriminate are not linearly separable in that space. For this reason, it was proposed that the original finite-dimensional space be mapped into a much higher-dimensional space, presumably making the separation easier in that space. It's called kernel trick.\n",
    "\n",
    "\n",
    "<br>\n",
    "**How to find the best hyper-plane?**\n",
    "\n",
    "> We are given a training dataset of n points of the form: $(\\vec x_1, y_1), (\\vec x_2, y_2), ...., (\\vec x_n, y_n)$  \n",
    "where, Each $\\vec x_i$ is a p-dimensional real vector and $y_i$ are either 1 or −1, indicating the class to which the point $\\vec x_i$ belongs.  We want to find the \"maximum-margin hyperplane\" that divides the group of points $\\vec x_i$ for which $y_i = 1$ from the group of points for which $y_i = - 1$.\n",
    "\n",
    "> Any hyperplane can be written as the set of points $\\vec x$ satisfying:\n",
    "$$\\vec w \\cdot \\vec x - b = 0$$\n",
    "\n",
    "> where $\\vec w$ is the normal vector to the hyperplane.The parameter $b \\over {\\|w\\|}$ determines the offset of the hyperplane from the origin along the normal vector $\\vec w$.\n",
    "\n",
    "> **Hard-margin**\n",
    "\n",
    "> If the training data is linearly separable, we can select two parallel hyperplanes that separate the two classes of data, so that the distance between them is as large as possible. The region bounded by these two hyperplanes is called the \"margin\", and the maximum-margin hyperplane is the hyperplane that lies halfway between them. With a normalized or standardized dataset, these hyperplanes can be described by the equations:  \n",
    "    $\\vec w \\cdot \\vec x - b = 1$ (anything on or above this boundary is of one class, with label 1).  \n",
    "and  \n",
    "    $\\vec w \\cdot \\vec x - b = -1$ (anything on or below this boundary is of the other class, with label −1).  \n",
    "\n",
    "> Geometrically, the distance between these two hyperplanes is $2 \\over {\\|w\\|}$, so to maximize the distance between the planes we want to minimize $\\|w\\|$. The distance is computed using the distance from a point to a plane equation. We also have to prevent data points from falling into the margin, we add the following constraint:  \n",
    "for each i either:  \n",
    "$\\vec w \\cdot \\vec x_i - b \\ge 1$, if $y_i = 1$,  \n",
    "or  \n",
    "$\\vec w \\cdot \\vec x_i - b \\le 1$, if $y_i = -1$.  \n",
    "These constraints state that each data point must lie on the correct side of the margin.\n",
    "\n",
    "> This can be rewritten as (for all $i$):\n",
    "$$y_i(\\vec w \\cdot \\vec x_i - b) \\ge 1$$\n",
    "\n",
    "> We can put this together to get the optimization problem:  \n",
    "\"Minimize $\\|w\\|$ subject to $y_i(\\vec w \\cdot \\vec x_i - b ) \\ge 1$ for $i = 1, 2, ..., n$.\"  \n",
    "The $\\vec w$ and $b$ that solve this problem determine our classifier.\n",
    "\n",
    "> An important consequence of this geometric description is that the max-margin hyperplane is completely determined by those $\\vec x_i$ that lie nearest to it. These $\\vec x_i$ are called support vectors.\n",
    "\n",
    "\n",
    "> **Soft-margin**\n",
    "\n",
    "> To extend SVM to cases in which the data are not linearly separable, we introduce the hinge loss function,\n",
    "$$max(0, 1 - y_i(\\vec w \\cdot \\vec x_i -b))$$\n",
    "Note that $y_i$ is the i-th target output, and $(\\vec w \\cdot \\vec x_i - b)$ is the current output.\n",
    "\n",
    "> This function is zero if $\\vec x_i$ lies on the correct side of the margin. For data on the wrong side of the margin, the function's value is proportional to the distance from the margin.\n",
    "\n",
    "> We then wish to minimize:\n",
    "$$\\lbrack{ \\frac{1}{n} \\sum_{i=1}^{n} max(0, 1 - y_i(\\vec w \\cdot \\vec x_i -b))}\\rbrack + \\lambda \\|w\\|^2$$\n",
    "\n",
    "> where the parameter $\\lambda$ determines the trade-off between increasing the margin size and ensuring that the $\\vec x_i$ lie on the correct side of the margin. Thus, for sufficiently small values of $\\lambda$, the second term in the loss function will become negligible, hence, it will behave similar to the hard-margin SVM, if the input data are linearly classifiable, but will still learn if a classification rule is viable or not.\n",
    "\n",
    "<br>\n",
    "**Applications:**\n",
    "\n",
    "> * SVMs are helpful in text and hypertext categorization.\n",
    "* Classification of images.\n",
    "* Hand-written characters can be recognized using SVM.\n",
    "\n",
    "<br>\n",
    "**Advantages:**\n",
    "\n",
    "> * It works really well with clear margin of separation.\n",
    "* It is effective in high dimensional spaces.\n",
    "* It is effective in cases where number of dimensions is greater than the number of samples.\n",
    "* It uses a subset of training points in the decision function (called support vectors), so it is also memory efficient.\n",
    "\n",
    "<br>\n",
    "**Disadvantages:**\n",
    "\n",
    "> * It doesn’t perform well, when we have large data set because the required training time is higher.\n",
    "* It also doesn’t perform very well, when the data set has more noise i.e. target classes are overlapping.\n",
    "* SVM doesn’t directly provide probability estimates, these are calculated using an expensive five-fold cross-validation."
   ]
  },
  {
   "cell_type": "markdown",
   "metadata": {},
   "source": [
    "## Use case implementation of Support Vector Machine\n",
    "\n",
    "We will build a model to predict the type of iris flower (2 types - setosa and versicolor) when features - sepal length and petal length are given. \n",
    "\n",
    "Let's get started...\n"
   ]
  },
  {
   "cell_type": "code",
   "execution_count": 1,
   "metadata": {},
   "outputs": [],
   "source": [
    "# imports\n",
    "import numpy as np\n",
    "import pandas as pd\n",
    "import matplotlib.pyplot as plt\n",
    "import seaborn as sns\n",
    "\n",
    "%matplotlib inline"
   ]
  },
  {
   "cell_type": "code",
   "execution_count": 2,
   "metadata": {},
   "outputs": [
    {
     "name": "stdout",
     "output_type": "stream",
     "text": [
      "(100, 3)\n"
     ]
    }
   ],
   "source": [
    "# load the data\n",
    "# label --> 0=setosa & 1=versicolor\n",
    "data = pd.read_csv('iris.csv')\n",
    "\n",
    "print(data.shape)"
   ]
  },
  {
   "cell_type": "code",
   "execution_count": 3,
   "metadata": {},
   "outputs": [
    {
     "data": {
      "text/html": [
       "<div>\n",
       "<style scoped>\n",
       "    .dataframe tbody tr th:only-of-type {\n",
       "        vertical-align: middle;\n",
       "    }\n",
       "\n",
       "    .dataframe tbody tr th {\n",
       "        vertical-align: top;\n",
       "    }\n",
       "\n",
       "    .dataframe thead th {\n",
       "        text-align: right;\n",
       "    }\n",
       "</style>\n",
       "<table border=\"1\" class=\"dataframe\">\n",
       "  <thead>\n",
       "    <tr style=\"text-align: right;\">\n",
       "      <th></th>\n",
       "      <th>sepal length (cm)</th>\n",
       "      <th>petal length (cm)</th>\n",
       "      <th>label</th>\n",
       "    </tr>\n",
       "  </thead>\n",
       "  <tbody>\n",
       "    <tr>\n",
       "      <th>0</th>\n",
       "      <td>5.1</td>\n",
       "      <td>1.4</td>\n",
       "      <td>0</td>\n",
       "    </tr>\n",
       "    <tr>\n",
       "      <th>1</th>\n",
       "      <td>4.9</td>\n",
       "      <td>1.4</td>\n",
       "      <td>0</td>\n",
       "    </tr>\n",
       "    <tr>\n",
       "      <th>2</th>\n",
       "      <td>4.7</td>\n",
       "      <td>1.3</td>\n",
       "      <td>0</td>\n",
       "    </tr>\n",
       "    <tr>\n",
       "      <th>3</th>\n",
       "      <td>4.6</td>\n",
       "      <td>1.5</td>\n",
       "      <td>0</td>\n",
       "    </tr>\n",
       "    <tr>\n",
       "      <th>4</th>\n",
       "      <td>5.0</td>\n",
       "      <td>1.4</td>\n",
       "      <td>0</td>\n",
       "    </tr>\n",
       "  </tbody>\n",
       "</table>\n",
       "</div>"
      ],
      "text/plain": [
       "   sepal length (cm)  petal length (cm)  label\n",
       "0                5.1                1.4      0\n",
       "1                4.9                1.4      0\n",
       "2                4.7                1.3      0\n",
       "3                4.6                1.5      0\n",
       "4                5.0                1.4      0"
      ]
     },
     "execution_count": 3,
     "metadata": {},
     "output_type": "execute_result"
    }
   ],
   "source": [
    "data.head()\n",
    "# label --> 0=setosa & 1=versicolor\n",
    "# first 50 are of type setosa and next 50 are of type versicolor"
   ]
  },
  {
   "cell_type": "code",
   "execution_count": 4,
   "metadata": {},
   "outputs": [
    {
     "data": {
      "image/png": "[encoded data removed]",
      "text/plain": [
       "<matplotlib.figure.Figure at 0xa0fd87acf8>"
      ]
     },
     "metadata": {},
     "output_type": "display_data"
    }
   ],
   "source": [
    "# plot the scatter-plot of data\n",
    "setosa_x = data.iloc[:50]['sepal length (cm)']\n",
    "setosa_y = data.iloc[:50]['petal length (cm)']\n",
    "versicolor_x = data.iloc[50:]['sepal length (cm)']\n",
    "versicolor_y = data.iloc[50:]['petal length (cm)']\n",
    "\n",
    "plt.figure(figsize=(8,8))\n",
    "plt.scatter(setosa_x, setosa_y, marker='s', color='blue')\n",
    "plt.scatter(versicolor_x, versicolor_y, marker='^', color='red')\n",
    "plt.show()"
   ]
  },
  {
   "cell_type": "code",
   "execution_count": 5,
   "metadata": {},
   "outputs": [
    {
     "name": "stdout",
     "output_type": "stream",
     "text": [
      "x_train shape : (80, 2)\n",
      "x_test shape : (20, 2)\n",
      "y_train shape : (80,)\n",
      "y_test shape : (20,)\n"
     ]
    }
   ],
   "source": [
    "# split the data to train and test data\n",
    "from sklearn.model_selection import train_test_split\n",
    "\n",
    "x = data.iloc[:, :2]\n",
    "y = data.iloc[:, 2]\n",
    "\n",
    "x_train, x_test, y_train, y_test = train_test_split(x, y, test_size=0.2, random_state=46)\n",
    "\n",
    "print('x_train shape :', x_train.shape)\n",
    "print('x_test shape :', x_test.shape)\n",
    "print('y_train shape :', y_train.shape)\n",
    "print('y_test shape :', y_test.shape)"
   ]
  },
  {
   "cell_type": "code",
   "execution_count": 6,
   "metadata": {},
   "outputs": [
    {
     "data": {
      "text/plain": [
       "SVC(C=1, cache_size=200, class_weight=None, coef0=0.0,\n",
       "  decision_function_shape='ovr', degree=3, gamma='auto', kernel='linear',\n",
       "  max_iter=-1, probability=False, random_state=None, shrinking=True,\n",
       "  tol=0.001, verbose=False)"
      ]
     },
     "execution_count": 6,
     "metadata": {},
     "output_type": "execute_result"
    }
   ],
   "source": [
    "# create model and fit on training data\n",
    "from sklearn.svm import SVC\n",
    "\n",
    "model = SVC(kernel='linear', C=1)\n",
    "model.fit(x_train, y_train)"
   ]
  },
  {
   "cell_type": "code",
   "execution_count": 7,
   "metadata": {},
   "outputs": [
    {
     "name": "stdout",
     "output_type": "stream",
     "text": [
      "Accuracy: 1.0\n",
      "             precision    recall  f1-score   support\n",
      "\n",
      "          0       1.00      1.00      1.00        12\n",
      "          1       1.00      1.00      1.00         8\n",
      "\n",
      "avg / total       1.00      1.00      1.00        20\n",
      "\n",
      "Confusion Matrix:\n",
      "\n"
     ]
    },
    {
     "data": {
      "image/png": "[encoded data removed]",
      "text/plain": [
       "<matplotlib.figure.Figure at 0xa0ff128438>"
      ]
     },
     "metadata": {},
     "output_type": "display_data"
    }
   ],
   "source": [
    "# evaluate the model using test data\n",
    "from sklearn.metrics import accuracy_score, confusion_matrix, classification_report\n",
    "\n",
    "predictions = model.predict(x_test)\n",
    "\n",
    "print('Accuracy: {}'.format(accuracy_score(y_test, predictions)))\n",
    "print(classification_report(y_test, predictions))\n",
    "\n",
    "conf_matrix = pd.DataFrame(confusion_matrix(y_test, predictions),\n",
    "                           index=['setosa', 'versicolor'],\n",
    "                           columns=['setosa', 'versicolor'])\n",
    "print('Confusion Matrix:\\n')\n",
    "sns.heatmap(conf_matrix, annot=True, fmt='d')\n",
    "plt.xlabel('predicted')\n",
    "plt.ylabel('actual')\n",
    "plt.show()"
   ]
  },
  {
   "cell_type": "code",
   "execution_count": 8,
   "metadata": {},
   "outputs": [
    {
     "data": {
      "image/png": "[encoded data removed]",
      "text/plain": [
       "<matplotlib.figure.Figure at 0xa0ff253668>"
      ]
     },
     "metadata": {},
     "output_type": "display_data"
    }
   ],
   "source": [
    "# plot the SVM graph showing decision boundaries\n",
    "\n",
    "# scatter-plot of train data\n",
    "plt.scatter(x_train.iloc[:, 0], x_train.iloc[:, 1], c=y_train, s=30, cmap=plt.cm.bwr)\n",
    "\n",
    "# get current axis limits\n",
    "ax = plt.gca()\n",
    "xlim = ax.get_xlim()\n",
    "ylim = ax.get_ylim()\n",
    "\n",
    "# create grid to evaluate model\n",
    "xx = np.linspace(xlim[0], xlim[1], 30)\n",
    "yy = np.linspace(ylim[0], ylim[1], 30)\n",
    "XX, YY = np.meshgrid(xx, yy)\n",
    "xy = np.vstack([XX.ravel(), YY.ravel()]).T\n",
    "Z = model.decision_function(xy).reshape(XX.shape)\n",
    "\n",
    "# plot decision boundary and margins\n",
    "ax.contour(XX, YY, Z, colors='k', levels=[-1, 0, 1], alpha=0.5, linestyles=['--', '-', '--'])\n",
    "# plot support vectors\n",
    "ax.scatter(model.support_vectors_[:, 0], model.support_vectors_[:, 1], s=100,\n",
    "           linewidth=1, facecolors='none', edgecolors='k')\n",
    "plt.show()"
   ]
  }
 ],
 "metadata": {
  "kernelspec": {
   "display_name": "Python 3",
   "language": "python",
   "name": "python3"
  },
  "language_info": {
   "codemirror_mode": {
    "name": "ipython",
    "version": 3
   },
   "file_extension": ".py",
   "mimetype": "text/x-python",
   "name": "python",
   "nbconvert_exporter": "python",
   "pygments_lexer": "ipython3",
   "version": "3.6.1"
  }
 },
 "nbformat": 4,
 "nbformat_minor": 2
}
